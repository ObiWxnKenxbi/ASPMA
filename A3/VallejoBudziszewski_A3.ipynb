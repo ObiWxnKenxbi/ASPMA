{
 "cells": [
  {
   "cell_type": "markdown",
   "metadata": {},
   "source": [
    "# Exercise 3: Fourier properties\n",
    "\n",
    "With this exercise you will get a better understanding of some of the Fourier theorems and of some useful properties of the DFT. You will write code to implement and verify several properties of the DFT that are discussed in the lectures. You will also learn to use the `dftModel.py` module of sms-tools, which contains the basic python functions implementing the DFT. There are five parts in the exercise: 1) Minimize energy spread in DFT of sinusoids, 2) Symmetry properties of the DFT, 3) Suppressing frequency components using DFT model, and 4) FFT size and zero-padding. \n",
    "\n",
    "### Relevant Concepts\n",
    "\n",
    "__DFT of sinusoids:__ When a real sinusoid has an integer number of cycles in $N$ samples, the frequency of the sinusoid exactly matches one of the bin frequencies in an $N$ point DFT. Hence the DFT spectrum of the sinusoid has a value of zero at every DFT bin except at the two bins that match the frequency of the sinusoid. Otherwise, the energy of the sinusoid is spread over all the bins. When there are multiple sinusoids, the equations extend to each sinusoid. \n",
    "\n",
    "\\begin{eqnarray}\n",
    " x[n]&=&A_{0}\\cos\\left(2\\pi k_{0}n/N\\right)=\\frac{A_{0}}{2}{\\textstyle e}^{j2\\pi k_{0}n/N}+\\frac{A_{0}}{2}{\\textstyle e}^{-j2\\pi k_{0}n/N}\\\\\n",
    " X[k] &=& \\frac{A_0}{2} \\,\\,\\, \\mathrm{for} \\,\\,\\, k = k_0, -k_0; \\,\\,\\,\\, 0 \\,\\,\\,\\mathrm{otherwise}\n",
    "\\end{eqnarray}\n",
    "\n",
    "__Zero-padding:__ Zero-padding a signal is done by adding zeros at the end of the signal. If we perform zero-padding to a signal before computing its DFT, the resulting spectrum will be an interpolated version of the spectrum of the original signal.  In most implementations of the DFT (including the FFT algorithms) when the DFT size is larger than the length of the signal, zero-padding is implicitly done. \n",
    "\n",
    "__Zero phase windowing:__ Zero phase windowing of a frame of a signal puts the centre of the signal at the zero time index for DFT computation. By moving the centre of the frame to zero index by a circular shift, the computed DFT will not have the phase offset which would have otherwise been introduced (recall that a shift of the signal causes the DFT to be multiplied by a complex exponential, which keeps the magnitude spectrum intact but changes the phase spectrum). When used in conjunction with zero-padding, zero phase windowing is also useful for the creation of a frame of length of power of 2 for FFT computation (`fftbuffer`). \n",
    "\n",
    "If the length of the signal $x$ is $M$ and the required DFT size is $N$, the zero phase windowed version of the signal, `dftbuffer`, for DFT computation can be obtained by (works for both even and odd $M$): \n",
    "\n",
    "    hM1 = floor((M+1)/2)\n",
    "    hM2 = floor(M/2)\n",
    "    dftbuffer = zeros(N)\n",
    "    dftbuffer[:hM1] = x[hM2:]                              \n",
    "    dftbuffer[-hM2:] = x[:hM2]\n",
    "\n",
    "__Real, even and odd signals:__ A signal is real when it does not have any imaginary component, and all sounds are real signals. A signal $x$ is even if $x[n] = x[-n]$, and odd if $x[n] = -x[-n]$. For a signal of length $M$ (and $M$ is odd), in the context of a zero phase windowed signal and its DFT, the signal is even if $x[n] = x[M-n]$ and odd if $x[n] = -x[M-n]$, $1 \\leq n \\leq M-1$. The DFT properties show that for real input signals, the magnitude spectrum is even and the phase spectrum is odd. Furthermore, when the input signal is both real and even, the DFT is real valued, with an even magnitude spectrum and imaginary component equal to zero. In summary, if $x$ is an input signal of length $M$ ($M$ is odd) and $X = \\mathrm{DFT}(x,M)$, then for $1 \\leq k \\leq M-1$\n",
    "\n",
    "If $x$ is real, $\\left|X[k]\\right| = \\left|X[M-k]\\right|$ and $\\boldsymbol{<}\\!X[k] = -\\boldsymbol{<}\\!X[M-k]$\n",
    "\n",
    "If $x$ is real and even, $\\left|X[k]\\right| = \\left|X[M-k]\\right|$ and $\\mathrm{imag}(X[k]) = 0$\n",
    "\n",
    "\n",
    "__Positive half of the DFT spectrum:__ Audio signals are real signals. Due to the symmetry properties of the DFT of a real signal, it is sufficient to store only one half of the magnitude and phase spectra. To save on both storage and computation, we will just store just the half spectrum when possible. \n",
    "\n",
    "From an $N$ point DFT ($N$ even), we can obtain the positive half of the spectrum by considering only the first $(N/2)+1$ samples of the DFT. We can compute the magnitude spectrum of the positive half (in dB) as $m_X = 20\\log_{10}\\left|X[0:(N/2)+1]\\right|$, where $X$ is the DFT of the input. \n",
    "\n",
    "__Filtering:__ Filtering involves selectively suppressing certain frequencies present in the signal. Filtering is often performed in the time domain by the convolution of the input signal with the impulse response of a filter. The same operation can also be done in the DFT domain using the properties of DFT, by multiplying the DFT of the input signal by the DFT of the impulse response of the filter. In this assignment, we will consider a very simple illustrative filter that suppresses some frequency components by setting some DFT coefficients to zero. It is to be noted that the convolution operation here is circular convolution with a period $N$, the size of the DFT. \n",
    "\n",
    "If $x_1[n] \\Leftrightarrow X_1[k]$ and $x_2[n] \\Leftrightarrow X_2[k]$, $x_1[n] * x_2[n] \\Longleftrightarrow X_1[k]\\,X_2[k]$"
   ]
  },
  {
   "cell_type": "markdown",
   "metadata": {},
   "source": [
    "\n",
    "## Part 1 - Minimize energy spread in DFT of sinusoids\n",
    "\n",
    "Given an input signal consisting of two sinusoids, the function `minimize_energy_spread_dft()` should select the first `M` samples from the signal and return the positive half of the DFT magnitude spectrum (in dB), such that it has only two non-zero values. \n",
    "\n",
    "`M` is to be calculated as the smallest positive integer for which the positive half of the DFT magnitude spectrum has only two non-zero values. To get the positive half of the spectrum, first compute the `M` point DFT of the input signal (for this you can use the `fft()` function of `scipy.fftpack`). Consider only the first `(M/2)+1` samples of the DFT, computing the magnitude spectrum of the positive half (in dB) as `mX = 20*log10(abs(X[:M/2+1]))`, where `X` is the DFT of the input signal.\n",
    "\n",
    "The input arguments to this function are the input signal `x` (of length W >= M) consisting of two sinusoids of frequency `f1` and `f2`, the sampling frequency `fs` and the value of frequencies `f1` and `f2`. The function should return the positive half of the magnitude spectrum `mX`. For this question, you can assume the input frequencies `f1` and `f2` to be positive integers and factors of `fs`, and that `M` is even. \n",
    "\n",
    "Due to the precision of the FFT computation, the zero values of the DFT are not zero but very small values < 1e-12 (or -240 dB) in magnitude. For practical purposes, all values with absolute value less than 1e-6 (or -120 dB) can be considered to be zero. \n",
    "\n",
    "HINT: The DFT magnitude spectrum of a sinusoid has only one non-zero value (in the positive half of the DFT spectrum) when its frequency coincides with one of the DFT bin frequencies. This happens when the DFT size (`M` in this question) contains exactly an integer number of periods of the sinusoid. Since the signal in this question consists of two sinusoids, this condition should hold true for each of the sinusoids, so that the DFT magnitude spectrum has only two non-zero values, one per sinusoid. \n",
    "\n",
    "`M` can be computed as the Least Common Multiple (LCM) of the sinusoid periods (in samples). The LCM of two numbers `x`, `y` can be computed as: `x*y/gcd(x,y)`, where gcd denotes the greatest common divisor."
   ]
  },
  {
   "cell_type": "code",
   "execution_count": 1,
   "metadata": {},
   "outputs": [],
   "source": [
    "from scipy.fftpack import fft, fftshift\n",
    "import numpy as np\n",
    "from math import gcd, ceil, floor\n",
    "import sys\n",
    "sys.path.append('../software/models/')\n",
    "from dftModel import dftAnal, dftSynth\n",
    "from scipy.signal import get_window\n",
    "import matplotlib.pyplot as plt"
   ]
  },
  {
   "cell_type": "code",
   "execution_count": 2,
   "metadata": {},
   "outputs": [],
   "source": [
    "# E3 - 1.1: Complete the function minimize_energy_spread_dft()\n",
    "    \n",
    "def minimize_energy_spread_dft(x, fs, f1, f2):\n",
    "    \"\"\" From a signal with two sinusoids compute its magnitude spectrum having only two non-zero value.\n",
    "    \n",
    "    Args:\n",
    "        x (np.array): input signal \n",
    "        fs (float): sampling frequency in Hz\n",
    "        f1 (float): frequency of first sinusoid component in Hz\n",
    "        f2 (float): frequency of second sinusoid component in Hz\n",
    "        \n",
    "    Returns:\n",
    "        np.array: positive half of magnitude spectrum (in dB)\n",
    "        \n",
    "    \"\"\"\n",
    "    ### Your code here\n",
    "    LCM = int(fs / np.gcd(f1,f2))\n",
    "    \n",
    "    SFFT = int(1 + LCM // 2)\n",
    "    \n",
    "    X = fft(x[:LCM])    \n",
    "    \n",
    "    xMag = 20*np.log10(abs(X))\n",
    "    \n",
    "    return(xMag[:SFFT])\n",
    "    "
   ]
  },
  {
   "cell_type": "markdown",
   "metadata": {},
   "source": [
    "Test cases for `minimize_energy_spread_dft()`:\n",
    "\n",
    "_Test case 1:_ For an input signal `x` sampled at `fs = 10000`Hz that consists of sinusoids of frequencies `f1 = 80`Hz and `f2 = 200`Hz, you need to select `M = 250` samples of the signal to meet the required condition. In this case, output `mX` is 126 samples in length and has non-zero values at bin indices 2 and 5 (corresponding to the frequency values of 80 and 200 Hz, respectively). You can create a test signal `x` by generating and adding two sinusoids of the given frequencies.\n",
    "\n",
    "_Test case 2:_ For an input signal `x` sampled at `fs = 48000` Hz that consists of sinusoids of frequencies `f1 = 300`Hz and `f2 = 800`Hz, you need to select `M = 480` samples of the signal to meet the required condition. In this case, output `mX` is 241 samples in length and has non-zero values at bin indices 3 and 8 (corresponding to the frequency values of 300 and 800 Hz, respectively). You can create a test signal `x` by generating and adding two sinusoids of the given frequencies."
   ]
  },
  {
   "cell_type": "code",
   "execution_count": 10,
   "metadata": {},
   "outputs": [
    {
     "data": {
      "text/plain": [
       "[<matplotlib.lines.Line2D at 0x7ff5d037d700>]"
      ]
     },
     "execution_count": 10,
     "metadata": {},
     "output_type": "execute_result"
    },
    {
     "data": {
      "image/png": "[encoded data removed]",
      "text/plain": [
       "<Figure size 432x288 with 2 Axes>"
      ]
     },
     "metadata": {
      "needs_background": "light"
     },
     "output_type": "display_data"
    }
   ],
   "source": [
    "# E3 - 1.2: Compute and plot the two input signals proposed above, call the function minimize_energy_spread_dft(), \n",
    "# and plot the output magnitude spectra\n",
    "\n",
    "### Your code here\n",
    "## number 1 fs = 1000 f1 = 80 f2 = 200 and M = 250\n",
    "fs = 10000\n",
    "f1 = 80\n",
    "f2 = 200\n",
    "t = np.arange(0,3,1.0/fs)\n",
    "x = np.cos(2*np.pi*f1*t) + np.cos(2*np.pi*f2*t) \n",
    "out = minimize_energy_spread_dft(x,fs,f1,f2)\n",
    "M = np.size(out)\n",
    "plt.figure(1)\n",
    "plt.subplot(2,1,1)\n",
    "plt.plot(x[200:800])\n",
    "plt.subplot(2,1,2)\n",
    "plt.plot(out)"
   ]
  },
  {
   "cell_type": "code",
   "execution_count": 11,
   "metadata": {},
   "outputs": [
    {
     "ename": "SyntaxError",
     "evalue": "invalid syntax (1613492685.py, line 14)",
     "output_type": "error",
     "traceback": [
      "\u001b[0;36m  Input \u001b[0;32mIn [11]\u001b[0;36m\u001b[0m\n\u001b[0;31m    plt.subplot(2,1,2)\u001b[0m\n\u001b[0m    ^\u001b[0m\n\u001b[0;31mSyntaxError\u001b[0m\u001b[0;31m:\u001b[0m invalid syntax\n"
     ]
    }
   ],
   "source": [
    "## number 2 fs = 48000 f1 = 80 f2 = 200 and M = 480\n",
    "## I had already ploted this and i had the idea to run it again and i dont know why it appears as\n",
    "## invalid syntax\n",
    "\n",
    "fs = 48000\n",
    "f1 = 300\n",
    "f2 = 800\n",
    "\n",
    "t = np.arange(0,3,1.0/fs)\n",
    "x = np.cos(2*np.pi*f1*t) + np.cos(2*np.pi*f2*t) \n",
    "out = minimize_energy_spread_dft(x,fs,f1,f2)\n",
    "M = np.size(out)\n",
    "plt.figure(2)\n",
    "plt.subplot(2,1,1)\n",
    "plt.plot(x[200:800]\n",
    "plt.subplot(2,1,2)\n",
    "plt.plot(out)"
   ]
  },
  {
   "cell_type": "markdown",
   "metadata": {},
   "source": [
    "## Part 2 - Symmetry properties of the DFT\n",
    "\n",
    "The function `test_real_even()` should check if the input signal is real and even using the symmetry properties of its DFT. The function will return the result of this test, the zero-phase windowed version of the input signal (`dftbuffer`), and its DFT. \n",
    "\n",
    "Given an input signal `x` of length `M`, do a zero phase windowing of `x` without any zero-padding. Then compute the `M` point DFT of the zero phase windowed signal and use the symmetry of the computed DFT to test if the input signal `x` is real and even. Return the result of the test, the `dftbuffer` computed, and the DFT of the `dftbuffer`. \n",
    "\n",
    "The input argument is a signal `x` of length `M`. The output is a tuple with three elements \n",
    "`(isRealEven, dftbuffer, X)`, where `isRealEven` is a boolean variable which is `True` if `x` is real and even, else `False`. `dftbuffer` is the `M` length zero phase windowed version of `x`. `X` is the `M` point DFT of the `dftbuffer`. \n",
    "\n",
    "To make the problem easier, we will use odd length input sequence in this question (`M` is odd). \n",
    "\n",
    "Due to the precision of the FFT computation, the zero values of the DFT are not zero but very small values < 1e-12 in magnitude. For practical purposes, all values with absolute value less than 1e-6 can be considered to be zero. Use an error tolerance of 1e-6 to compare if two floating point arrays are equal. \n",
    "\n",
    "Caveat: Use the imaginary part of the spectrum instead of the phase to check if the input signal is real and even."
   ]
  },
  {
   "cell_type": "code",
   "execution_count": 5,
   "metadata": {},
   "outputs": [],
   "source": [
    "# E3 - 2.1: Complete the function test_real_even()\n",
    "\n",
    "def test_real_even(x):\n",
    "    \"\"\"check if x is real and even using the symmetry properties of its DFT.\n",
    "    Args:\n",
    "        x (np.array): input signal of length M (M is odd)\n",
    "        \n",
    "    Returns:\n",
    "        tuple including:\n",
    "        isRealEven (boolean): True if input x is real and even, and False otherwise\n",
    "        dftbuffer (np.array): M point zero phase windowed version of x \n",
    "        X (np.array): M point DFT of dftbuffer \n",
    "        \n",
    "    \"\"\"\n",
    "    ### Your code here\n",
    "    M = x.size\n",
    "    hM = (M/2)+1\n",
    "    hL = int(math.floor((M+1)/2))\n",
    "    hR = int(math.floor(M/2))\n",
    "    dftbuffer = np.zeros(M)\n",
    "    dftbuffer[:hL] = x[hR:]\n",
    "    dftbuffer[-hR:] = x[:hR]\n",
    "    X = fft(dftbuffer)\n",
    "    is_real = np.real(X)[np.arange(1,hL)] == np.real(X)[np.arange(M-1,hR,-1)]\n",
    "    is_imag = np.imag(X[1:M-2]) <  1.0e-6\n",
    "    isRealEven = sum(is_real == False) + sum(is_imag == False) == 0\n",
    "    return bool(isRealEven), dftbuffer, X\n"
   ]
  },
  {
   "cell_type": "markdown",
   "metadata": {},
   "source": [
    "Test cases for `test_real_even()`:\n",
    "\n",
    "_Test case 1:_ If `x = np.array([2, 3, 4, 3, 2])`, which is a real and even signal (after zero phase windowing), the function returns \n",
    "\n",
    "```\n",
    "(True, array([ 4., 3., 2., 2., 3.]), array([14.0000+0.j, 2.6180+0.j, \n",
    "0.3820+0.j, 0.3820+0.j, 2.6180+0.j])) (values are approximate)\n",
    "```\n",
    "\n",
    "_Test case 2:_ If `x = np.array([1, 2, 3, 4, 1, 2, 3])`, which is not an even signal (after zero phase windowing), the function returns \n",
    "\n",
    "```\n",
    "(False,  array([ 4.,  1.,  2.,  3.,  1.,  2.,  3.]), array([ 16.+0.j, \n",
    "2.+0.69j, 2.+3.51j, 2.-1.08j, 2.+1.08j, 2.-3.51j, 2.-0.69j])) (values are approximate)\n",
    "```\n",
    "\n",
    "To get a more realistic example use a longer input signal and plot the real and imaginary parts of the output spectrum `X`. For example, use `x = get_window('hanning', 51, fftbins=False)`, which is real an even, and plot `x`and the real and imaginary part of the spectrum `X`.\n"
   ]
  },
  {
   "cell_type": "code",
   "execution_count": 6,
   "metadata": {},
   "outputs": [
    {
     "name": "stdout",
     "output_type": "stream",
     "text": [
      "(True, array([4., 3., 2., 2., 3.]), array([14.        -0.j,  2.61803399+0.j,  0.38196601+0.j,  0.38196601-0.j,\n",
      "        2.61803399-0.j]))\n"
     ]
    },
    {
     "data": {
      "text/plain": [
       "[<matplotlib.lines.Line2D at 0x7ff5c3c30cd0>]"
      ]
     },
     "execution_count": 6,
     "metadata": {},
     "output_type": "execute_result"
    },
    {
     "data": {
      "image/png": "[encoded data removed]",
      "text/plain": [
       "<Figure size 432x288 with 1 Axes>"
      ]
     },
     "metadata": {
      "needs_background": "light"
     },
     "output_type": "display_data"
    }
   ],
   "source": [
    "# E3 - 2.2: Plot the input signal proposed above (window signal), call the function test_real_even(), \n",
    "# and plot its output spectrum (real and imaginary)\n",
    "\n",
    "def test_real_even(x):\n",
    "    M = x.size\n",
    "    hM = (M/2)+1\n",
    "    hL = int(np.floor((M+1)/2))\n",
    "    hR = int(np.floor(M/2))\n",
    "    dftbuffer = np.zeros(M)\n",
    "    dftbuffer[:hL] = x[hR:]\n",
    "    dftbuffer[-hR:] = x[:hR]\n",
    "    X = fft(dftbuffer)\n",
    "    is_real = np.real(X)[np.arange(1,hL)] == np.real(X)[np.arange(M-1,hR,-1)]\n",
    "    is_imag = np.imag(X[1:M-2]) <  1.0e-6\n",
    "    isRealEven = sum(is_real == False) + sum(is_imag == False) == 0\n",
    "    return bool(isRealEven), dftbuffer, X\n",
    "x = np.array([2, 3, 4, 3, 2])\n",
    "print(test_real_even(x))\n",
    "plt.plot(x.imag)\n",
    "plt.plot(x.real)"
   ]
  },
  {
   "cell_type": "code",
   "execution_count": 7,
   "metadata": {},
   "outputs": [
    {
     "name": "stdout",
     "output_type": "stream",
     "text": [
      "(False, array([4., 1., 2., 3., 1., 2., 3.]), array([16.-0.j        ,  2.+0.69589549j,  2.+3.51351879j,  2.-1.08208835j,\n",
      "        2.+1.08208835j,  2.-3.51351879j,  2.-0.69589549j]))\n"
     ]
    },
    {
     "data": {
      "text/plain": [
       "[<matplotlib.lines.Line2D at 0x7ff5c8803f70>]"
      ]
     },
     "execution_count": 7,
     "metadata": {},
     "output_type": "execute_result"
    },
    {
     "data": {
      "image/png": "[encoded data removed]",
      "text/plain": [
       "<Figure size 432x288 with 1 Axes>"
      ]
     },
     "metadata": {
      "needs_background": "light"
     },
     "output_type": "display_data"
    }
   ],
   "source": [
    "def test_real_even(x):\n",
    "    M = x.size\n",
    "    hM = (M/2)+1\n",
    "    hL = int(np.floor((M+1)/2))\n",
    "    hR = int(np.floor(M/2))\n",
    "    dftbuffer = np.zeros(M)\n",
    "\n",
    "    dftbuffer[:hL] = x[hR:]\n",
    "    dftbuffer[-hR:] = x[:hR]\n",
    "\n",
    "    X = fft(dftbuffer)\n",
    "    is_real = np.real(X)[np.arange(1,hL)] == np.real(X)[np.arange(M-1,hR,-1)]\n",
    "    is_imag = np.imag(X[1:M-2]) <  1.0e-6\n",
    "    isRealEven = sum(is_real == False) + sum(is_imag == False) == 0\n",
    "    \n",
    "\n",
    "    return bool(isRealEven), dftbuffer, X\n",
    "x = np.array([1, 2, 3, 4, 1, 2, 3])\n",
    "print(test_real_even(x))\n",
    "plt.plot(x.imag)\n",
    "plt.plot(x.real)"
   ]
  },
  {
   "cell_type": "markdown",
   "metadata": {},
   "source": [
    "## Part 3 - Suppressing frequency components using DFT model\n",
    "\n",
    "Given a signal as input, the function `supress_freq_dft_model()` should suppress the frequency components <= 70Hz using the DFT. It should return the filtered signal in the time domain.\n",
    "\n",
    "Use the DFT to implement a very basic form of frequency domain filtering. Use the functions `dftAnal()` and `dftSynth()` provided in the `dftModel.py` module. \n",
    "\n",
    "Use `dftAnal()` to obtain the magnitude spectrum (in dB) and phase spectrum of the audio signal. Set the values of the magnitude spectrum that correspond to frequencies <= 70 Hz to -120dB (there may not be a bin corresponding exactly to 70Hz, choose the nearest bin of equal or higher frequency, e.g., using `np.ceil()`).\n",
    "\n",
    "Use `dftSynth()` to synthesize the filtered output signal. Then return the filtered signal. \n",
    "\n",
    "Use a hamming window to smooth the signal. Hence, do not forget to scale the output signals by the sum of the window values (as done in `software/models_interface/dftModel_function.py`).  \n",
    "\n",
    "Please note that this question is just for illustrative purposes and filtering is not usually done this way - such sharp cutoffs introduce artifacts in the output. \n",
    "\n",
    "The input is a `M` length signal `x`, sampling frequency is `fs` and the FFT size `N`. The output is the filtered signal."
   ]
  },
  {
   "cell_type": "code",
   "execution_count": 12,
   "metadata": {},
   "outputs": [],
   "source": [
    "# E3 - 3.1: Complete the function suppress_freq_dft_model()\n",
    "\n",
    "def suppress_freq_dft_model(x, fs, N):\n",
    "    \"\"\"\n",
    "    Args:\n",
    "        x (np.array): input signal of length M (odd size)\n",
    "        fs (float): sampling frequency (Hz)\n",
    "        N (int): FFT size\n",
    "        \n",
    "    Returns:\n",
    "       np.array: output signal with filtering (N samples long)\n",
    "    \"\"\"\n",
    "    \n",
    "    ### Your code here\n",
    "    M = len(x)\n",
    "    w = get_window('hamming', M)\n",
    "    OSF = sum(w)\n",
    "    mX, pX = dftAnal(x,w,N)\n",
    "    \n",
    "    y = dftSynth(mX,pX,M) * OSF\n",
    "    \n",
    "    Cut = int(np.ceil(70.0*N/fs))\n",
    "    mX2 = mX.copy()\n",
    "    mX2[:Cut-1] = -120\n",
    "    \n",
    "    yfilt = dftSynth(mX2, pX, M) * OSF\n",
    "\n",
    "    return (y, yfilt)"
   ]
  },
  {
   "cell_type": "markdown",
   "metadata": {},
   "source": [
    "Test case for the function `suppress_freq_dft_model()`:\n",
    "\n",
    "_Test case 1:_ For an input signal with 40Hz, 100Hz, 200Hz, 1000Hz components, the output should only contain 100Hz, 200Hz and 1000Hz components. \n",
    "\n",
    "_Test case 2:_ For an input signal with 23Hz, 36Hz, 230Hz, 900Hz, 2300Hz components, the output should only contain 230Hz, 900Hz and 2300Hz components. \n",
    "\n",
    "To understand the effect of filtering, you can plot the magnitude spectra of the input and output signals superposed."
   ]
  },
  {
   "cell_type": "code",
   "execution_count": 13,
   "metadata": {},
   "outputs": [
    {
     "ename": "ValueError",
     "evalue": "could not broadcast input array from shape (0,2048) into shape (1024,)",
     "output_type": "error",
     "traceback": [
      "\u001b[0;31m---------------------------------------------------------------------------\u001b[0m",
      "\u001b[0;31mValueError\u001b[0m                                Traceback (most recent call last)",
      "Input \u001b[0;32mIn [13]\u001b[0m, in \u001b[0;36m<cell line: 31>\u001b[0;34m()\u001b[0m\n\u001b[1;32m     29\u001b[0m y \u001b[38;5;241m=\u001b[39m suppress_freq_dft_model(x[:N],fs,N)\n\u001b[1;32m     30\u001b[0m mX, pX \u001b[38;5;241m=\u001b[39m dftAnal(x[:N],w,N)\n\u001b[0;32m---> 31\u001b[0m mY, pY \u001b[38;5;241m=\u001b[39m \u001b[43mdftAnal\u001b[49m\u001b[43m(\u001b[49m\u001b[43my\u001b[49m\u001b[43m[\u001b[49m\u001b[43m:\u001b[49m\u001b[43mN\u001b[49m\u001b[43m]\u001b[49m\u001b[43m,\u001b[49m\u001b[43mw\u001b[49m\u001b[43m,\u001b[49m\u001b[43mN\u001b[49m\u001b[43m)\u001b[49m\n\u001b[1;32m     32\u001b[0m freq_step \u001b[38;5;241m=\u001b[39m fs\u001b[38;5;241m/\u001b[39m(N)\n\u001b[1;32m     33\u001b[0m new_x \u001b[38;5;241m=\u001b[39m np\u001b[38;5;241m.\u001b[39marange(\u001b[38;5;241m0\u001b[39m,(fs\u001b[38;5;241m+\u001b[39m\u001b[38;5;241m1\u001b[39m)\u001b[38;5;241m/\u001b[39m\u001b[38;5;241m2\u001b[39m,freq_step)\n",
      "File \u001b[0;32m~/Documents/UPF/Audio Signal Processing/sms-tools-master/notebooks/../software/models/dftModel.py:70\u001b[0m, in \u001b[0;36mdftAnal\u001b[0;34m(x, w, N)\u001b[0m\n\u001b[1;32m     68\u001b[0m w \u001b[38;5;241m=\u001b[39m w \u001b[38;5;241m/\u001b[39m \u001b[38;5;28msum\u001b[39m(w)  \u001b[38;5;66;03m# normalize analysis window\u001b[39;00m\n\u001b[1;32m     69\u001b[0m xw \u001b[38;5;241m=\u001b[39m x \u001b[38;5;241m*\u001b[39m w  \u001b[38;5;66;03m# window the input sound\u001b[39;00m\n\u001b[0;32m---> 70\u001b[0m fftbuffer[:hM1] \u001b[38;5;241m=\u001b[39m xw[hM2:]  \u001b[38;5;66;03m# zero-phase window in fftbuffer\u001b[39;00m\n\u001b[1;32m     71\u001b[0m fftbuffer[\u001b[38;5;241m-\u001b[39mhM2:] \u001b[38;5;241m=\u001b[39m xw[:hM2]\n\u001b[1;32m     72\u001b[0m X \u001b[38;5;241m=\u001b[39m fft(fftbuffer)  \u001b[38;5;66;03m# compute FFT\u001b[39;00m\n",
      "\u001b[0;31mValueError\u001b[0m: could not broadcast input array from shape (0,2048) into shape (1024,)"
     ]
    }
   ],
   "source": [
    "# E3 - 3.2: Compute the input signals proposed above and plot their magnitude spectra (x-axis in Hz), \n",
    "# call the function suppress_freq_dft_model(), and plot the magnitude spectra of the output signals\n",
    "\n",
    "### Your code here\n",
    "def suppress_freq_dft_model(x, fs, N):\n",
    "    M = len(x)\n",
    "    w = get_window('hamming', M)\n",
    "    OSF = sum(w)\n",
    "    mX, pX = dftAnal(x,w,N)\n",
    "    \n",
    "    y = dftSynth(mX,pX,M) * OSF\n",
    "    \n",
    "    Cut = int(np.ceil(70.0*N/fs))\n",
    "    mX2 = mX.copy()\n",
    "    mX2[:Cut-1] = -120\n",
    "    \n",
    "    yfilt = dftSynth(mX2, pX, M) * OSF\n",
    "\n",
    "    return (y, yfilt)\n",
    "fs = 44100\n",
    "f1 = 40\n",
    "f2 = 100\n",
    "f3 = 200\n",
    "f4 = 1000\n",
    "N = 2048\n",
    "w = get_window('hamming', N)\n",
    "t = np.arange(0,3,1.0/fs)\n",
    "x = np.cos(2*np.pi*f1*t) + np.cos(2*np.pi*f2*t) + np.cos(2*np.pi*f3*t) + np.cos(2*np.pi*f4*t)\n",
    "y = suppress_freq_dft_model(x[:N],fs,N)\n",
    "mX, pX = dftAnal(x[:N],w,N)\n",
    "mY, pY = dftAnal(y[:N],w,N)\n",
    "freq_step = fs/(N)\n",
    "new_x = np.arange(0,(fs+1)/2,freq_step)\n",
    "plt.figure()\n",
    "plt.plot(new_x,mX,color=\"green\")\n",
    "plt.plot(new_x,mY,color=\"blue\")"
   ]
  },
  {
   "cell_type": "code",
   "execution_count": 14,
   "metadata": {},
   "outputs": [
    {
     "ename": "ValueError",
     "evalue": "could not broadcast input array from shape (0,4096) into shape (2048,)",
     "output_type": "error",
     "traceback": [
      "\u001b[0;31m---------------------------------------------------------------------------\u001b[0m",
      "\u001b[0;31mValueError\u001b[0m                                Traceback (most recent call last)",
      "Input \u001b[0;32mIn [14]\u001b[0m, in \u001b[0;36m<cell line: 28>\u001b[0;34m()\u001b[0m\n\u001b[1;32m     26\u001b[0m y \u001b[38;5;241m=\u001b[39m suppress_freq_dft_model(x[:N],fs,N)\n\u001b[1;32m     27\u001b[0m mX, pX \u001b[38;5;241m=\u001b[39m dftAnal(x[:N],w,N)\n\u001b[0;32m---> 28\u001b[0m mY, pY \u001b[38;5;241m=\u001b[39m \u001b[43mdftAnal\u001b[49m\u001b[43m(\u001b[49m\u001b[43my\u001b[49m\u001b[43m[\u001b[49m\u001b[43m:\u001b[49m\u001b[43mN\u001b[49m\u001b[43m]\u001b[49m\u001b[43m,\u001b[49m\u001b[43mw\u001b[49m\u001b[43m,\u001b[49m\u001b[43mN\u001b[49m\u001b[43m)\u001b[49m\n\u001b[1;32m     29\u001b[0m freq_step \u001b[38;5;241m=\u001b[39m fs\u001b[38;5;241m/\u001b[39m(N)\n\u001b[1;32m     30\u001b[0m new_x \u001b[38;5;241m=\u001b[39m np\u001b[38;5;241m.\u001b[39marange(\u001b[38;5;241m0\u001b[39m,(fs\u001b[38;5;241m+\u001b[39m\u001b[38;5;241m1\u001b[39m)\u001b[38;5;241m/\u001b[39m\u001b[38;5;241m2\u001b[39m,freq_step)\n",
      "File \u001b[0;32m~/Documents/UPF/Audio Signal Processing/sms-tools-master/notebooks/../software/models/dftModel.py:70\u001b[0m, in \u001b[0;36mdftAnal\u001b[0;34m(x, w, N)\u001b[0m\n\u001b[1;32m     68\u001b[0m w \u001b[38;5;241m=\u001b[39m w \u001b[38;5;241m/\u001b[39m \u001b[38;5;28msum\u001b[39m(w)  \u001b[38;5;66;03m# normalize analysis window\u001b[39;00m\n\u001b[1;32m     69\u001b[0m xw \u001b[38;5;241m=\u001b[39m x \u001b[38;5;241m*\u001b[39m w  \u001b[38;5;66;03m# window the input sound\u001b[39;00m\n\u001b[0;32m---> 70\u001b[0m fftbuffer[:hM1] \u001b[38;5;241m=\u001b[39m xw[hM2:]  \u001b[38;5;66;03m# zero-phase window in fftbuffer\u001b[39;00m\n\u001b[1;32m     71\u001b[0m fftbuffer[\u001b[38;5;241m-\u001b[39mhM2:] \u001b[38;5;241m=\u001b[39m xw[:hM2]\n\u001b[1;32m     72\u001b[0m X \u001b[38;5;241m=\u001b[39m fft(fftbuffer)  \u001b[38;5;66;03m# compute FFT\u001b[39;00m\n",
      "\u001b[0;31mValueError\u001b[0m: could not broadcast input array from shape (0,4096) into shape (2048,)"
     ]
    }
   ],
   "source": [
    "def suppress_freq_dft_model(x, fs, N):\n",
    "    M = len(x)\n",
    "    w = get_window('hamming', M)\n",
    "    OSF = sum(w)\n",
    "    mX, pX = dftAnal(x,w,N)\n",
    "    \n",
    "    y = dftSynth(mX,pX,M) * OSF\n",
    "    \n",
    "    Cut = int(np.ceil(70.0*N/fs))\n",
    "    mX2 = mX.copy()\n",
    "    mX2[:Cut-1] = -120\n",
    "    \n",
    "    yfilt = dftSynth(mX2, pX, M) * OSF\n",
    "\n",
    "    return (y, yfilt)\n",
    "fs = 44100\n",
    "f1 = 23\n",
    "f2 = 36\n",
    "f3 = 230\n",
    "f4 = 900\n",
    "f5 = 2300\n",
    "N = 4096\n",
    "w = get_window('hamming', N)\n",
    "t = np.arange(0,3,1.0/fs)\n",
    "x = np.cos(2*np.pi*f1*t) + np.cos(2*np.pi*f2*t) + np.cos(2*np.pi*f3*t) + np.cos(2*np.pi*f4*t) +  np.cos(2*np.pi*f5*t) \n",
    "y = suppress_freq_dft_model(x[:N],fs,N)\n",
    "mX, pX = dftAnal(x[:N],w,N)\n",
    "mY, pY = dftAnal(y[:N],w,N)\n",
    "freq_step = fs/(N)\n",
    "new_x = np.arange(0,(fs+1)/2,freq_step)\n",
    "plt.figure()\n",
    "plt.plot(new_x,mX,color=\"blue\")\n",
    "plt.plot(new_x,mY,color=\"red\")"
   ]
  },
  {
   "cell_type": "markdown",
   "metadata": {},
   "source": [
    "## Part 4 - Window-size, FFT-size, and zero-padding\n",
    "\n",
    "The function `zp_fft_size_expt()` should take an input signal, compute three different magnitude spectra (with different parameters) and return them. \n",
    "\n",
    "This function should provide some insights into the effects window-size, FFT-size, and zero-padding on the spectrum of a signal. \n",
    "\n",
    "The input signal should be of size 512 samples, the sampling rate should be 1000Hz, and the analysis window used should be hamming. The three set of analysis parameters should be:\n",
    "\n",
    "1. window-size = 256, FFT-size = 256 (no zero-padding)\n",
    "2. window-size = 512, FFT-size = 512 (no zero-padding)\n",
    "2. window-size = 256, FFT-size = 512 (zero-padding of 256 samples)\n",
    "\n",
    "Use `dftAnal()` to obtain the positive half of the magnitude spectrum (in dB). Return the 3 magnitude spectra in dB. \n"
   ]
  },
  {
   "cell_type": "code",
   "execution_count": 15,
   "metadata": {},
   "outputs": [],
   "source": [
    "# E3 - 4.1: Complete the function zp_fft_size_expt()\n",
    "\n",
    "def zp_fft_size_expt(x, window_size=[256, 512, 256], FFT_size=[256, 512, 512]):\n",
    "    \"\"\"compute magnitude spectra of x with different window sizes and FFT sizes.\n",
    "    \n",
    "    Args:\n",
    "        x (np.array): input signal (512 samples long)\n",
    "        \n",
    "    Returns:\n",
    "        list with magnitude spectra (np.array)\n",
    "    \"\"\"\n",
    "    \n",
    "    ### Your code here \n",
    "    M = len(x)\n",
    "    w = get_window(\"hamming\", window_size[0])\n",
    "    mx1, px1 = dftAnal(x, window_size[0], FFT_size[0])\n",
    "    w = get_window(\"hamming\", window_size[1])\n",
    "    mx2, px2 = dftAnal(x, window_size[1], FFT_size[1])\n",
    "    w = get_window(\"hamming\", window_size[2])\n",
    "    mx3, px3 = dftAnal(x, window_size[2], FFT_size[2])\n",
    "\n",
    "\n",
    "    return mx1, mx2, mx3\n"
   ]
  },
  {
   "cell_type": "markdown",
   "metadata": {},
   "source": [
    "Test cases for the function `zp_fft_size_expt()`:\n",
    "\n",
    "_Test case 1:_ Use as input `x = .2*np.cos(2*np.pi*200*n)+.2*np.cos(2*np.pi*400*n)` where `n=np.arange(512)/fs` and the sampling rate `fs=1000`. Use the default arguments for `window_size` and `FFT_size`. Call the function with `mag_spectra = zp_fft_size_expt(x)`\n",
    "\n",
    "To understand better, plot the output of `dftAnal()` for each case on a common frequency axis with different colors. You will see that `mag_spectra[2]` is the interpolated version of `mag_spectra[0]` (zero-padding leads to interpolation of the DFT). You will also observe that the 'mainlobe' of the magnitude spectrum in `mag_spectra[1]` will be narrower than that in `mag_spectra[0]` and `mag_spectra[2]`. This shows that having a longer window leads to a narrower mainlobe with better frequency resolution and less spreading of the energy of the sinusoid. "
   ]
  },
  {
   "cell_type": "code",
   "execution_count": 16,
   "metadata": {},
   "outputs": [
    {
     "ename": "NameError",
     "evalue": "name 'n' is not defined",
     "output_type": "error",
     "traceback": [
      "\u001b[0;31m---------------------------------------------------------------------------\u001b[0m",
      "\u001b[0;31mNameError\u001b[0m                                 Traceback (most recent call last)",
      "Input \u001b[0;32mIn [16]\u001b[0m, in \u001b[0;36m<cell line: 23>\u001b[0;34m()\u001b[0m\n\u001b[1;32m     18\u001b[0m     mx3, px3 \u001b[38;5;241m=\u001b[39m dftAnal(x[:window_size[\u001b[38;5;241m2\u001b[39m]\u001b[38;5;241m+\u001b[39m\u001b[38;5;241m11\u001b[39m], w3, FFT_size[\u001b[38;5;241m2\u001b[39m])\n\u001b[1;32m     21\u001b[0m     \u001b[38;5;28;01mreturn\u001b[39;00m mx1, mx2, mx3\n\u001b[0;32m---> 23\u001b[0m x \u001b[38;5;241m=\u001b[39m \u001b[38;5;241m.2\u001b[39m\u001b[38;5;241m*\u001b[39mnp\u001b[38;5;241m.\u001b[39mcos(\u001b[38;5;241m2\u001b[39m\u001b[38;5;241m*\u001b[39mnp\u001b[38;5;241m.\u001b[39mpi\u001b[38;5;241m*\u001b[39m\u001b[38;5;241m200\u001b[39m\u001b[38;5;241m*\u001b[39m\u001b[43mn\u001b[49m)\u001b[38;5;241m+\u001b[39m\u001b[38;5;241m.2\u001b[39m\u001b[38;5;241m*\u001b[39mnp\u001b[38;5;241m.\u001b[39mcos(\u001b[38;5;241m2\u001b[39m\u001b[38;5;241m*\u001b[39mnp\u001b[38;5;241m.\u001b[39mpi\u001b[38;5;241m*\u001b[39m\u001b[38;5;241m400\u001b[39m\u001b[38;5;241m*\u001b[39mn)\n\u001b[1;32m     25\u001b[0m fs: \u001b[38;5;241m1000\u001b[39m\n\u001b[1;32m     27\u001b[0m n \u001b[38;5;241m=\u001b[39m np\u001b[38;5;241m.\u001b[39marange(\u001b[38;5;241m512\u001b[39m)\u001b[38;5;241m/\u001b[39mfs\n",
      "\u001b[0;31mNameError\u001b[0m: name 'n' is not defined"
     ]
    }
   ],
   "source": [
    "# E3 - 4.2: Compute, plot, and play the input signal proposed above, call the function zp_fft_size_expt(), and plot \n",
    "# the outputs\n",
    "\n",
    "### Your code here\n",
    "from utilFunctions import wavread, wavwrite\n",
    "\n",
    "def zp_fft_size_expt(x, window_size=[256, 512, 256], FFT_size=[256, 512, 512]):\n",
    "\n",
    "    M = len(x)\n",
    "    \n",
    "    w1 = get_window(\"hamming\", window_size[0])\n",
    "    mx1, px1 = dftAnal(x[:window_size[0]], w1, FFT_size[0])\n",
    "    \n",
    "    w2 = get_window(\"hamming\", window_size[1])\n",
    "    mx2, px2 = dftAnal(x, w2, FFT_size[1])\n",
    "    \n",
    "    w3 = get_window(\"hamming\", window_size[2]+11)\n",
    "    mx3, px3 = dftAnal(x[:window_size[2]+11], w3, FFT_size[2])\n",
    "\n",
    "\n",
    "    return mx1, mx2, mx3\n",
    "\n",
    "x = .2*np.cos(2*np.pi*200*n)+.2*np.cos(2*np.pi*400*n)\n",
    "\n",
    "fs: 1000\n",
    "\n",
    "n = np.arange(512)/fs\n",
    "\n",
    "N = np.size(n) \n",
    "\n",
    "mag_spectra = zp_fft_size_expt(x)\n",
    "\n",
    "freq_step_0 = fs/(N/2)\n",
    "freq_step_1 = fs/N\n",
    "new_x_0 = np.arange(0,(fs+1)/2,freq_step_0)\n",
    "new_x_1 = np.arange(0,(fs+1)/2,freq_step_1)\n",
    "\n",
    "print (len(x))\n",
    "\n",
    "plt.plot(mag_spectra[0], color = \"blue\")\n",
    "plt.plot(mag_spectra[1], color = \"red\")\n",
    "plt.plot(mag_spectra[2], color = \"green\")\n",
    "\n",
    "## I had the same problem as in E3.2, i had already ploted it, i got a nice graph and then i tried again and now\n",
    "## it says that n is not defined. I asked some classmates but they dont know which is the error.\n",
    "\n"
   ]
  },
  {
   "cell_type": "code",
   "execution_count": 17,
   "metadata": {},
   "outputs": [
    {
     "data": {
      "text/plain": [
       "'\\n\\n\\n'"
      ]
     },
     "execution_count": 17,
     "metadata": {},
     "output_type": "execute_result"
    }
   ],
   "source": [
    "# E3 - 4.3: Explain the results of Part 4. If we were to estimate the frequency of the sinusoid using its DFT, \n",
    "# a first principles approach is to choose the frequency value of the bin corresponding to the maximum in the \n",
    "# DFT magnitude spectrum. If you were to take this approach, which of the magnitude spectra will give you a \n",
    "# better estimate of the frequency of the sinusoid? Comment and discuss.\n",
    "\"\"\"\n",
    "For what i could see from the graph i got before i got the error, the green signal, since it uses zero padding, gets a \n",
    "more accurate result than the other two.\n",
    "If i had to choose between one signal I think i would choose number 1 {the red one} because it has a good resulution and it has \n",
    "no zero padding\n",
    "\n",
    "\"\"\""
   ]
  },
  {
   "cell_type": "code",
   "execution_count": null,
   "metadata": {},
   "outputs": [],
   "source": []
  }
 ],
 "metadata": {
  "kernelspec": {
   "display_name": "Python 3 (ipykernel)",
   "language": "python",
   "name": "python3"
  },
  "language_info": {
   "codemirror_mode": {
    "name": "ipython",
    "version": 3
   },
   "file_extension": ".py",
   "mimetype": "text/x-python",
   "name": "python",
   "nbconvert_exporter": "python",
   "pygments_lexer": "ipython3",
   "version": "3.9.12"
  }
 },
 "nbformat": 4,
 "nbformat_minor": 4
}
