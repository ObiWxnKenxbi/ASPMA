{
 "cells": [
  {
   "cell_type": "code",
   "execution_count": 60,
   "id": "fd84ef58",
   "metadata": {
    "scrolled": true
   },
   "outputs": [
    {
     "name": "stdout",
     "output_type": "stream",
     "text": [
      "[-0.06213569 -0.04541154 -0.02734458 -0.0093997   0.00769066  0.02319407\n",
      "  0.03503525  0.04309214  0.04626606  0.0441908 ]\n"
     ]
    }
   ],
   "source": [
    "import sys\n",
    "import os\n",
    "import numpy as np\n",
    "sys.path.append('/Users/sofiavallejo/Documents/sms-tools-master/software/models')\n",
    "from utilFunctions import wavread, wavwrite\n",
    "# E1 - 1.1: Complete the read_audio_samples() function\n",
    "\"\"\"\n",
    "A1-Part-1: Reading an audio file\n",
    "\n",
    "Write a function that reads an audio file and returns 10 consecutive samples of the file starting from \n",
    "the 50001th sample. This means that the output should exactly contain the 50001th sample to the 50010th \n",
    "sample (10 samples). \n",
    "\n",
    "The input to the function is the file name (including the path) and the output should be a numpy array \n",
    "containing 10 samples.\n",
    "\n",
    "If you use the wavread function from the utilFunctions module the input samples will be automatically \n",
    "converted to floating point numbers with a range from -1 to 1, which is what we want. \n",
    "\n",
    "Remember that in python, the index of the first sample of an array is 0 and not 1.\n",
    "\n",
    "If you run your code using piano.wav as the input, the function should return the following 10 samples:  \n",
    "array([-0.06213569, -0.04541154, -0.02734458, -0.0093997 ,  0.00769066,\t0.02319407,  0.03503525, \n",
    "0.04309214, 0.04626606,  0.0441908], dtype=float32)\n",
    "\"\"\"\n",
    "\n",
    "def readAudio(input_file, first_sample=50001, num_samples=10):\n",
    "    \"\"\"\n",
    "    Input:\n",
    "        inputFile: the path to the wav file      \n",
    "    Output:\n",
    "        The function should return a numpy array that contains 10 samples of the audio.\n",
    "    \"\"\"\n",
    "    ## Your code here\n",
    "    # Read the file\n",
    "    inputFile = (\"/Users/sofiavallejo/Documents/sms-tools-master/sounds/\")\n",
    "    Fs, data = wavread(\"/Users/sofiavallejo/Documents/sms-tools-master/sounds/piano.wav\")\n",
    "    N = 50000\n",
    "    x = data[N:N+10]\n",
    "    \n",
    "    return x\n",
    "print(readAudio(\"/Users/sofiavallejo/Documents/sms-tools-master/sounds/piano.wav\"))"
   ]
  },
  {
   "cell_type": "code",
   "execution_count": 15,
   "id": "4549c833",
   "metadata": {},
   "outputs": [],
   "source": [
    "# E1 - 2.1: Complete function minMaxAudio()\n",
    "\n",
    "def min_max_audio(input_file):\n",
    "    \"\"\"Compute the minimum and maximum values of the audio samples in the input file\n",
    "    \n",
    "    Args:\n",
    "        inputFile(str): file name of the wav file (including path)\n",
    "    \n",
    "    Returns:\n",
    "        tuple: minimum and maximum value of the audio samples, like: (min_val, max_val)\n",
    "    \"\"\"\n",
    "    input_file = (\"/Users/sofiavallejo/Documents/sms-tools-master/sounds\")\n",
    "    Fs, data = wavread(\"/Users/sofiavallejo/Documents/sms-tools-master/sounds/oboe-A4.wav\")\n",
    "    min_max_audio=(\"/Users/sofiavallejo/Documents/sms-tools-master/sounds/oboe-A4.wav\")\n",
    "    max_v = np.max(data)\n",
    "    min_v = np.min(data)\n",
    "    \n",
    "    return (min_v, max_v)"
   ]
  },
  {
   "cell_type": "code",
   "execution_count": 16,
   "id": "6879ca4a",
   "metadata": {},
   "outputs": [
    {
     "data": {
      "text/plain": [
       "(-0.8348643, 0.56501967)"
      ]
     },
     "execution_count": 16,
     "metadata": {},
     "output_type": "execute_result"
    }
   ],
   "source": [
    "min_max_audio(\"/Users/sofiavallejo/Documents/sms-tools-master/sounds/oboe-A4.wav\")"
   ]
  },
  {
   "cell_type": "code",
   "execution_count": 30,
   "id": "6cdf1edd",
   "metadata": {},
   "outputs": [],
   "source": [
    "# E1 - 3.1: Complete the function hop_samples()\n",
    "\n",
    "def hopSamples(x,M):\n",
    "    \"\"\"Return every Mth element of the input array\n",
    "    \n",
    "    Args:\n",
    "        x(np.array): input numpy array\n",
    "        M(int): hop size (positive integer)\n",
    "    \n",
    "    Returns:\n",
    "        np.array: array containing every Mth element in x, starting from the first element in x\n",
    "    \"\"\"\n",
    "    hop = np.arange(0,x.size,M)\n",
    "    x_hop = x[hop]\n",
    "    return x_hop"
   ]
  },
  {
   "cell_type": "code",
   "execution_count": 31,
   "id": "c075021d",
   "metadata": {},
   "outputs": [
    {
     "data": {
      "text/plain": [
       "array([0, 2, 4, 6, 8])"
      ]
     },
     "execution_count": 31,
     "metadata": {},
     "output_type": "execute_result"
    }
   ],
   "source": [
    "x = np.arange(10)\n",
    "M = 2\n",
    "hopSamples(x,M)"
   ]
  },
  {
   "cell_type": "code",
   "execution_count": 61,
   "id": "ae542255",
   "metadata": {},
   "outputs": [
    {
     "data": {
      "text/plain": [
       "[<matplotlib.lines.Line2D at 0x7fe55aebed60>]"
      ]
     },
     "execution_count": 61,
     "metadata": {},
     "output_type": "execute_result"
    },
    {
     "data": {
      "image/png": "[encoded data removed]",
      "text/plain": [
       "<Figure size 432x288 with 1 Axes>"
      ]
     },
     "metadata": {
      "needs_background": "light"
     },
     "output_type": "display_data"
    }
   ],
   "source": [
    "import matplotlib.pyplot as plt\n",
    "x = np.arange(10)\n",
    "hop = np.arange(0,x.size,M)\n",
    "x_hop = x[hop]\n",
    "M = 2\n",
    "plt.plot(x)\n",
    "plt.plot(x_hop)"
   ]
  },
  {
   "cell_type": "code",
   "execution_count": null,
   "id": "9b37b981",
   "metadata": {},
   "outputs": [],
   "source": []
  }
 ],
 "metadata": {
  "kernelspec": {
   "display_name": "Python 3 (ipykernel)",
   "language": "python",
   "name": "python3"
  },
  "language_info": {
   "codemirror_mode": {
    "name": "ipython",
    "version": 3
   },
   "file_extension": ".py",
   "mimetype": "text/x-python",
   "name": "python",
   "nbconvert_exporter": "python",
   "pygments_lexer": "ipython3",
   "version": "3.9.12"
  }
 },
 "nbformat": 4,
 "nbformat_minor": 5
}
