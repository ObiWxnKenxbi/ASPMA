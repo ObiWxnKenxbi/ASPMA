{
 "cells": [
  {
   "cell_type": "code",
   "execution_count": 196,
   "id": "ecefaf96",
   "metadata": {},
   "outputs": [
    {
     "name": "stdout",
     "output_type": "stream",
     "text": [
      "[-0.06213569 -0.04541154 -0.02734458 -0.0093997   0.00769066  0.02319407\n",
      "  0.03503525  0.04309214  0.04626606  0.0441908 ]\n"
     ]
    }
   ],
   "source": [
    "# E1 - 1.1: Complete the read_audio_samples() function\n",
    "import sys\n",
    "import os\n",
    "import numpy as np\n",
    "sys.path.append('/Users/sofiavallejo/Documents/sms-tools-master/software/models')\n",
    "from utilFunctions import wavread, wavwrite\n",
    "\n",
    "def read_audio_samples(input_file, first_sample=50001, num_samples=10):\n",
    "    \"\"\"Read num_samples samples from an audio file starting at sample first_sample\n",
    "    \n",
    "    Args:\n",
    "        input_file (str): path of a wav file      \n",
    "    \n",
    "    Returns:\n",
    "        np.array: numpy array containing the selected samples\n",
    "    \n",
    "    \"\"\"\n",
    "    inputFile = (\"/Users/sofiavallejo/Documents/sms-tools-master/sounds/\")\n",
    "    Fs, data = wavread(\"/Users/sofiavallejo/Documents/sms-tools-master/sounds/piano.wav\")\n",
    "    N = 50000\n",
    "    x = data[N:N+10]\n",
    "    \n",
    "    return x\n",
    "print(read_audio_samples(\"/Users/sofiavallejo/Documents/sms-tools-master/sounds/piano.wav\"))"
   ]
  },
  {
   "cell_type": "code",
   "execution_count": 69,
   "id": "06059782",
   "metadata": {},
   "outputs": [],
   "source": [
    "## RESPONSE: \n",
    "##array([-0.06213569, -0.04541154, -0.02734458, -0.0093997, 0.00769066, 0.02319407, 0.03503525, 0.04309214, 0.04626606,  0.0441908], dtype=float32)"
   ]
  },
  {
   "cell_type": "code",
   "execution_count": 98,
   "id": "fe931c05",
   "metadata": {},
   "outputs": [],
   "source": [
    "# E1 - 2.1: Complete function minMaxAudio()\n",
    "\n",
    "def min_max_audio(input_file):\n",
    "    \"\"\"Compute the minimum and maximum values of the audio samples in the input file\n",
    "    \n",
    "    Args:\n",
    "        inputFile(str): file name of the wav file (including path)\n",
    "    \n",
    "    Returns:\n",
    "        tuple: minimum and maximum value of the audio samples, like: (min_val, max_val)\n",
    "    \"\"\"\n",
    "    input_file = (\"/Users/sofiavallejo/Documents/sms-tools-master/sounds\")\n",
    "    Fs, data = wavread(\"/Users/sofiavallejo/Documents/sms-tools-master/sounds/oboe-A4.wav\")\n",
    "    min_max_audio=(\"/Users/sofiavallejo/Documents/sms-tools-master/sounds/oboe-A4.wav\")\n",
    "    max_v = np.max(data)\n",
    "    min_v = np.min(data)\n",
    "    \n",
    "    return (min_v, max_v)\n"
   ]
  },
  {
   "cell_type": "code",
   "execution_count": 99,
   "id": "7b862ac8",
   "metadata": {},
   "outputs": [
    {
     "data": {
      "text/plain": [
       "(-0.8348643, 0.56501967)"
      ]
     },
     "execution_count": 99,
     "metadata": {},
     "output_type": "execute_result"
    }
   ],
   "source": [
    "min_max_audio(\"/Users/sofiavallejo/Documents/sms-tools-master/sounds/oboe-A4.wav\")"
   ]
  },
  {
   "cell_type": "code",
   "execution_count": 101,
   "id": "0a9455fc",
   "metadata": {},
   "outputs": [],
   "source": [
    "## RESPONSE\n",
    "#(-0.83486432, 0.56501967)"
   ]
  },
  {
   "cell_type": "code",
   "execution_count": 207,
   "id": "653bd9f5",
   "metadata": {},
   "outputs": [
    {
     "data": {
      "text/plain": [
       "array([0, 2, 4, 6, 8])"
      ]
     },
     "execution_count": 207,
     "metadata": {},
     "output_type": "execute_result"
    }
   ],
   "source": [
    "# E1 - 3.1: Complete the function hop_samples()\n",
    "\n",
    "def hop_Samples(x,M):\n",
    "    \"\"\"Return every Mth element of the input array\n",
    "    \n",
    "    Args:\n",
    "        x(np.array): input numpy array\n",
    "        M(int): hop size (positive integer)\n",
    "    \n",
    "    Returns:\n",
    "        np.array: array containing every Mth element in x, starting from the first element in x\n",
    "    \"\"\"\n",
    "    hop = np.arange(0,x.size,M)\n",
    "    x_hop = x[hop]\n",
    "    return x_hop\n",
    "## RESPONSE\n",
    "## array([0, 2, 4, 6, 8])\n",
    "import matplotlib.pyplot as plt\n",
    "x = np.arange(10)\n",
    "M = 2\n",
    "hop_Samples(x,M)\n"
   ]
  },
  {
   "cell_type": "code",
   "execution_count": 210,
   "id": "c2add059",
   "metadata": {},
   "outputs": [
    {
     "data": {
      "text/plain": [
       "[<matplotlib.lines.Line2D at 0x7f9fb040a3d0>]"
      ]
     },
     "execution_count": 210,
     "metadata": {},
     "output_type": "execute_result"
    },
    {
     "data": {
      "image/png": "[encoded data removed]",
      "text/plain": [
       "<Figure size 432x288 with 1 Axes>"
      ]
     },
     "metadata": {
      "needs_background": "light"
     },
     "output_type": "display_data"
    }
   ],
   "source": [
    "# E1 - 3.2: Plot input array, call hop_samples() with proposed input, and plot output array\n",
    "\n",
    "### Your code here\n",
    "import matplotlib.pyplot as plt\n",
    "x = np.arange(10)\n",
    "hop = np.arange(0,x.size,M)\n",
    "x_hop = x[hop]\n",
    "M = 2\n",
    "plt.plot(x)\n",
    "plt.plot(x_hop)"
   ]
  },
  {
   "cell_type": "code",
   "execution_count": 191,
   "id": "d265b72e",
   "metadata": {},
   "outputs": [
    {
     "data": {
      "text/html": [
       "\n",
       "                <audio  controls=\"controls\" >\n",
       "                    <source src=\"data:audio/wav;base64,UklGRi4AAABXQVZFZm10IBAAAAABAAEAIlYAAESsAAACABAAZGF0YQoAAAAAAP8f/z//X/9/\" type=\"audio/wav\" />\n",
       "                    Your browser does not support the audio element.\n",
       "                </audio>\n",
       "              "
      ],
      "text/plain": [
       "<IPython.lib.display.Audio object>"
      ]
     },
     "metadata": {},
     "output_type": "display_data"
    },
    {
     "data": {
      "text/plain": [
       "[<matplotlib.lines.Line2D at 0x7f9fe03bdc10>]"
      ]
     },
     "execution_count": 191,
     "metadata": {},
     "output_type": "execute_result"
    },
    {
     "data": {
      "image/png": "[encoded data removed]",
      "text/plain": [
       "<Figure size 432x288 with 1 Axes>"
      ]
     },
     "metadata": {
      "needs_background": "light"
     },
     "output_type": "display_data"
    }
   ],
   "source": [
    "# E1 - 4.1: Complete function down_sample_audio()\n",
    "\n",
    "import IPython.display as ipd\n",
    "import matplotlib.pyplot as plt\n",
    "\n",
    "def down_sample_audio(input_file, M):\n",
    " \"\"\"Downsample by a factor of M the input signal\n",
    "    \n",
    "    Args:\n",
    "        input_file(str): file name of the wav file (including path)\n",
    "        M(int): downsampling factor (positive integer)\n",
    "        \n",
    "    Returns:\n",
    "        tuple: input samples (np.array), original sampling rate (int), down-sampled signal (np.array), \n",
    "               and new sampling rate (int), like: (x, fs, y, fs_new) \n",
    "    \"\"\"\n",
    "    input_file = (\"/Users/sofiavallejo/Documents/sms-tools-master/sounds\")\n",
    "    Fs, x = wavread(\"/Users/sofiavallejo/Documents/sms-tools-master/sounds/sawtooth-440.wav\")\n",
    "    M = 14\n",
    "    fs_new = (Fs/M) \n",
    "    y = x[::M]\n",
    "def wavwrite(y, Fs, filename):\n",
    "    filename = \"sound_downsampled.wav\"\n",
    "    return (x, Fs, y, fs_new)\n",
    "ipd.display(ipd.Audio(data = y, rate=fs_new))\n",
    "plt.plot(x)"
   ]
  },
  {
   "cell_type": "code",
   "execution_count": null,
   "id": "efb06a1c",
   "metadata": {},
   "outputs": [],
   "source": [
    "# E1 - 4.3: Explain the results of part 4. \n",
    "# What happened to the output signals compared to the input ones? \n",
    "# Is there a difference between the 2 cases? Why? How could we avoid damaging the signal when downsampling it?\n",
    "\"\"\"\n",
    "Everytime we downsample an audio we lose information. I think the way we can avoid the damage on the signal is by \n",
    "\"re-drawing\" the signal, or interpolating data. \n",
    "\"\"\""
   ]
  }
 ],
 "metadata": {
  "kernelspec": {
   "display_name": "Python 3 (ipykernel)",
   "language": "python",
   "name": "python3"
  },
  "language_info": {
   "codemirror_mode": {
    "name": "ipython",
    "version": 3
   },
   "file_extension": ".py",
   "mimetype": "text/x-python",
   "name": "python",
   "nbconvert_exporter": "python",
   "pygments_lexer": "ipython3",
   "version": "3.9.12"
  }
 },
 "nbformat": 4,
 "nbformat_minor": 5
}
