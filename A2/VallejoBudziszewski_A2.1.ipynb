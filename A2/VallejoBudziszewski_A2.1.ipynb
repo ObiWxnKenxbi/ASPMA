{
 "cells": [
  {
   "cell_type": "markdown",
   "id": "5a27d63c",
   "metadata": {},
   "source": [
    "# Exercise 2: Sinusoids and the DFT\n",
    "Doing this exercise you will get a better understanding of the basic elements and operations that take place in the Discrete Fourier Transform (DFT). There are five parts: 1) Generate a sinusoid, 2) Generate a complex sinusoid, 3) Implement the DFT, 4) Implement the IDFT, and 5) Compute the magnitude spectrum of an input sequence."
   ]
  },
  {
   "cell_type": "markdown",
   "id": "af66f9ff",
   "metadata": {},
   "source": [
    "## Relevant Concepts\n",
    "A real sinusoid in discrete time domain can be expressed by:\n",
    "\n",
    " \n",
    "where,  is the array of real values of the sinusoid,  is an integer value expressing the time index,  is the amplitude value of the sinusoid,  is the frequency value of the sinusoid in Hz,  is the sampling period equal to , fs is the sampling frequency in Hz, and  is the initial phase of the sinusoid in radians.\n",
    "\n",
    "A complex sinusoid in discrete time domain can be expressed by:\n",
    "\n",
    " \n",
    "where, \n",
    " is the array of complex values of the sinusoid,  is an integer value expressing the time index,  is the amplitude value of the sinusoid,  is the complex exponential number,  is the frequency of the sinusoid in radians per second (equal to ),  is the sampling period equal , fs is the sampling frequency in Hz and  is the initial phase of the sinusoid in radians.\n",
    "\n",
    "The  point DFT of a sequence of real values  (a sound) can be expressed by:\n",
    "\n",
    " \n",
    "where  is an integer value expressing the discrete time index,  is an integer value expressing the discrete frequency index, and  is the length of the DFT.\n",
    "\n",
    "The IDFT of a spectrum  of length  can be expressed by:\n",
    "\n",
    " \n",
    " \n",
    "where,  is an integer value expressing the discrete time index,  is an integer value expressing the discrete frequency index, and  is the length of the spectrum .\n",
    "\n",
    "The magnitude of a complex spectrum  is obtained by taking its absolute value: "
   ]
  },
  {
   "cell_type": "markdown",
   "id": "0520224a",
   "metadata": {},
   "source": [
    "## Part 1 - Generate a sinusoid\n",
    "The function gen_sine() should generate a real sinusoid (use np.cos()) given its amplitude A, frequency f (Hz), initial phase phi (radians), sampling rate fs (Hz) and duration t (seconds).\n",
    "\n",
    "All the input arguments to this function (A, f, phi, fs and t) are real numbers such that A, t and fs are positive, and fs > 2*f to avoid aliasing. The function should return a numpy array x of the generated sinusoid.\n",
    "\n",
    "Use the function cos of the numpy package to compute the sinusoidal values."
   ]
  },
  {
   "cell_type": "code",
   "execution_count": 2,
   "id": "af77d418",
   "metadata": {
    "scrolled": true
   },
   "outputs": [],
   "source": [
    "import numpy as np\n",
    "def genSine(A, f, phi, fs, t):\n",
    "    n = np.arange(0,t,1/fs)\n",
    "    x = A*np.cos(2*np.pi*f*n + phi)\n",
    "    return x"
   ]
  },
  {
   "cell_type": "markdown",
   "id": "a542b383",
   "metadata": {},
   "source": [
    "If you use A=1.0, f = 10.0, phi = 1.0, fs = 50 and t = 0.1 as input to the function gen_sine() the output numpy array should be:\n",
    "\n",
    "        array([ 0.54030231, -0.63332387, -0.93171798,  0.05749049,  0.96724906])\n",
    "To generate a sinewave that you can hear, it should be longer and with a higher sampling rate. For example you can use A=1.0, f = 440.0, phi = 1.0, fs = 5000 and t = 0.5. To play it import the Ipython.display package and use ipd.display(ipd.Audio(data=x, rate=fs))."
   ]
  },
  {
   "cell_type": "code",
   "execution_count": 3,
   "id": "85a3f7c0",
   "metadata": {},
   "outputs": [
    {
     "name": "stdout",
     "output_type": "stream",
     "text": [
      "[ 0.54030231 -0.63332387 -0.93171798  0.05749049  0.96724906]\n"
     ]
    }
   ],
   "source": [
    "import IPython.display as ipd\n",
    "import matplotlib.pyplot as plt\n",
    "def gen_Sine(A, f, phi, fs, t):\n",
    "    n = np.arange(0,t,1/fs)\n",
    "    x = A*np.cos(2*np.pi*f*n + phi)    \n",
    "    return x\n",
    "print(gen_Sine(1.0,10.0,1.0,50.0,0.1))\n"
   ]
  },
  {
   "cell_type": "code",
   "execution_count": 6,
   "id": "4e6bc670",
   "metadata": {
    "scrolled": true
   },
   "outputs": [
    {
     "ename": "NameError",
     "evalue": "name 'x' is not defined",
     "output_type": "error",
     "traceback": [
      "\u001b[0;31m---------------------------------------------------------------------------\u001b[0m",
      "\u001b[0;31mNameError\u001b[0m                                 Traceback (most recent call last)",
      "Input \u001b[0;32mIn [6]\u001b[0m, in \u001b[0;36m<cell line: 15>\u001b[0;34m()\u001b[0m\n\u001b[1;32m     11\u001b[0m     x \u001b[38;5;241m=\u001b[39m A\u001b[38;5;241m*\u001b[39mnp\u001b[38;5;241m.\u001b[39mcos(\u001b[38;5;241m2\u001b[39m\u001b[38;5;241m*\u001b[39mnp\u001b[38;5;241m.\u001b[39mpi\u001b[38;5;241m*\u001b[39mf\u001b[38;5;241m*\u001b[39mn \u001b[38;5;241m+\u001b[39m phi)\n\u001b[1;32m     14\u001b[0m     \u001b[38;5;28;01mreturn\u001b[39;00m x\n\u001b[0;32m---> 15\u001b[0m plt\u001b[38;5;241m.\u001b[39mplot(\u001b[43mx\u001b[49m)\n\u001b[1;32m     16\u001b[0m fs\u001b[38;5;241m=\u001b[39m \u001b[38;5;241m5000\u001b[39m\n\u001b[1;32m     17\u001b[0m ipd\u001b[38;5;241m.\u001b[39mdisplay(ipd\u001b[38;5;241m.\u001b[39mAudio(data\u001b[38;5;241m=\u001b[39mx, rate\u001b[38;5;241m=\u001b[39mfs))\n",
      "\u001b[0;31mNameError\u001b[0m: name 'x' is not defined"
     ]
    }
   ],
   "source": [
    "import IPython.display as ipd\n",
    "import matplotlib.pyplot as plt\n",
    "\n",
    "def gen_Sine(A, f, phi, fs, t):\n",
    "    n = np.arange(0,t,1/fs)\n",
    "    A = 1.0\n",
    "    f = 440.0\n",
    "    phi = 1.0\n",
    "    fs = 5000\n",
    "    t = 0.5\n",
    "    x = A*np.cos(2*np.pi*f*n + phi)\n",
    "    return x\n",
    "plt.plot(x)\n",
    "fs= 5000\n",
    "ipd.display(ipd.Audio(data=x, rate=fs))"
   ]
  },
  {
   "cell_type": "markdown",
   "id": "f69ce3fb",
   "metadata": {},
   "source": [
    "# Part 2 - Generate a complex sinusoid\n",
    "The gen_complex_sine() function should generate the complex sinusoid that is used in DFT computation of length N (samples), corresponding to the frequency index k. [Note that in the DFT we use the conjugate of this complex sinusoid.]\n",
    "\n",
    "The amplitude of such a complex sinusoid is 1, the length is N, and the frequency in radians is 2*pi*k/N.\n",
    "\n",
    "The input arguments to the function are two positive integers, k and N, such that k < N-1. The function should return c_sine, a numpy array of the complex sinusoid. Use the function exp() of the numpy package to compute the complex sinusoidal values."
   ]
  },
  {
   "cell_type": "code",
   "execution_count": 119,
   "id": "9da27ae0",
   "metadata": {},
   "outputs": [],
   "source": [
    "# E2 - 2.1: Complete function the function gen_complex_sine()\n",
    "\n",
    "def gen_complex_sine(k, N):\n",
    "    \"\"\"Generate one of the complex sinusoids used in the DFT from its frequency index and the DFT lenght.\n",
    "    \n",
    "    Args:\n",
    "        k (integer): frequency index of the complex sinusoid of the DFT\n",
    "        N (integer) = length of complex sinusoid, DFT length, in samples\n",
    "        \n",
    "    Returns:\n",
    "        np.array: array with generated complex sinusoid (length N)\n",
    "        \n",
    "    \"\"\"\n",
    "    n = np.arange(0,N)\n",
    "    complex_sin = np.array([np.exp(-2j * np.pi * k * n / N) for n in range])\n",
    "    return complex_sin"
   ]
  },
  {
   "cell_type": "markdown",
   "id": "506f41b9",
   "metadata": {},
   "source": [
    "If you run the function gen_complex_sine() using k=1 and N=5, it should return the following numpy array:\n",
    "\n",
    "    array([ 1. + 0.j,  0.30901699 + 0.95105652j, -0.80901699 + 0.58778525j, -0.80901699 - 0.58778525j, 0.30901699 - 0.95105652j])"
   ]
  },
  {
   "cell_type": "code",
   "execution_count": 127,
   "id": "c18e32c3",
   "metadata": {
    "scrolled": true
   },
   "outputs": [
    {
     "name": "stderr",
     "output_type": "stream",
     "text": [
      "/Users/sofiavallejo/opt/anaconda3/lib/python3.9/site-packages/matplotlib/cbook/__init__.py:1298: ComplexWarning: Casting complex values to real discards the imaginary part\n",
      "  return np.asarray(x, float)\n"
     ]
    },
    {
     "data": {
      "text/plain": [
       "[<matplotlib.lines.Line2D at 0x7fa040dfe340>]"
      ]
     },
     "execution_count": 127,
     "metadata": {},
     "output_type": "execute_result"
    },
    {
     "data": {
      "image/png": "[encoded data removed]",
      "text/plain": [
       "<Figure size 432x288 with 1 Axes>"
      ]
     },
     "metadata": {
      "needs_background": "light"
     },
     "output_type": "display_data"
    }
   ],
   "source": [
    "# E2 - 2.2: Call gen_complex_sine() with the values suggested above and plot the real and imaginary parts of the \n",
    "# output complex sinusoid\n",
    "\n",
    "def gen_complex_sine(k, N):\n",
    "    n = np.arange(N)/N\n",
    "    complex_sin = np.exp(-1j*2*np.pi*k*n)\n",
    "    return complex_sin\n",
    "k = 1.0\n",
    "N = 5.0\n",
    "complex_sin = gen_complex_sine(k=k,N=N)\n",
    "plt.plot(complex_sin)"
   ]
  },
  {
   "cell_type": "markdown",
   "id": "841c0b23",
   "metadata": {},
   "source": [
    "# Part 3 - Implement the discrete Fourier transform (DFT)\n",
    "The function dft() should implement the discrete Fourier transform (DFT) equation given above. Given a sequence x of length N, the function should return its spectrum of length N with the frequency indexes ranging from 0 to N-1.\n",
    "\n",
    "The input argument to the function is a numpy array x and the function should return a numpy array X, the DFT of x."
   ]
  },
  {
   "cell_type": "code",
   "execution_count": 145,
   "id": "66004d0e",
   "metadata": {},
   "outputs": [],
   "source": [
    "# E2 - 3.1: Complete the function dft()\n",
    "\n",
    "def dft(x):\n",
    "    \"\"\"Compute the DFT of a signal.\n",
    "    \n",
    "    Args:\n",
    "        x (numpy array): input sequence of length N\n",
    "        \n",
    "    Returns:\n",
    "        np.array: N point DFT of the input sequence x\n",
    "    \"\"\"\n",
    "    X = []\n",
    "    for k in np.arange(x.size):\n",
    "        sk = gen_complex_sine(float(k),float(x.size))\n",
    "        X = np.append(X,np.sum(x*sk))\n",
    "    return X"
   ]
  },
  {
   "cell_type": "markdown",
   "id": "3c0d3600",
   "metadata": {},
   "source": [
    "If you run dft() using as input x = np.array([1, 2, 3, 4]), the function shoulds return the following numpy array:\n",
    "\n",
    "    array([10.0 + 0.0j,  -2. +2.0j,  -2.0 - 9.79717439e-16j, -2.0 - 2.0j])\n",
    "Note that you might not get an exact 0 in the output because of the small numerical errors due to the limited precision of the data in your computer. Usually these errors are of the order 1e-15 depending on your machine."
   ]
  },
  {
   "cell_type": "code",
   "execution_count": 153,
   "id": "cef57a60",
   "metadata": {},
   "outputs": [
    {
     "name": "stdout",
     "output_type": "stream",
     "text": [
      "[10.+0.00000000e+00j -2.+2.00000000e+00j -2.-9.79717439e-16j\n",
      " -2.-2.00000000e+00j]\n"
     ]
    },
    {
     "name": "stderr",
     "output_type": "stream",
     "text": [
      "/Users/sofiavallejo/opt/anaconda3/lib/python3.9/site-packages/matplotlib/cbook/__init__.py:1298: ComplexWarning: Casting complex values to real discards the imaginary part\n",
      "  return np.asarray(x, float)\n"
     ]
    },
    {
     "data": {
      "text/plain": [
       "[<matplotlib.lines.Line2D at 0x7fa040b1e310>]"
      ]
     },
     "execution_count": 153,
     "metadata": {},
     "output_type": "execute_result"
    },
    {
     "data": {
      "image/png": "[encoded data removed]",
      "text/plain": [
       "<Figure size 432x288 with 1 Axes>"
      ]
     },
     "metadata": {
      "needs_background": "light"
     },
     "output_type": "display_data"
    }
   ],
   "source": [
    "# E2 - 3.2: Call dft() with the values suggested above and plot the real and imaginary parts of output spectrum\n",
    "x = np.array([1, 2, 3, 4])\n",
    "X1 = dft(x)\n",
    "print (X1)\n",
    "plt.plot(X1)"
   ]
  },
  {
   "cell_type": "markdown",
   "id": "a21e6873",
   "metadata": {},
   "source": [
    "# Part 4 - Implement the inverse discrete Fourier transform (IDFT)\n",
    "The function idft() should implement the inverse discrete Fourier transform (IDFT) equation given above. Given a frequency spectrum X of length N, the function should return its IDFT x, also of length N. Assume that the frequency index of the input spectrum ranges from 0 to N-1.\n",
    "\n",
    "The input argument to the function is a numpy array X of the frequency spectrum and the function should return a numpy array of the IDFT of X.\n",
    "\n",
    "Remember to scale the output appropriately."
   ]
  },
  {
   "cell_type": "code",
   "execution_count": 173,
   "id": "2ab3e1f7",
   "metadata": {},
   "outputs": [],
   "source": [
    "# E2 - 4.1: Complete the function idft()\n",
    "\n",
    "def idft(X):\n",
    "    \"\"\"Compute the inverse-DFT of a spectrum.\n",
    "    \n",
    "    Args:\n",
    "        X (np.array): frequency spectrum (length N)\n",
    "        \n",
    "    Returns:\n",
    "        np.array: N point IDFT of the frequency spectrum X\n",
    "        \n",
    "    \"\"\"\n",
    "    N = len(X)\n",
    "    kv = np.arange(0,N)\n",
    "    y = np.array([])\n",
    "    for n in range(N):\n",
    "    \ts = np.exp(1j * 2 * np.pi * n / N * np.arange(N))\n",
    "    \ty = np.append(y, 1.0/N * sum(X*s))\n",
    "    return y"
   ]
  },
  {
   "cell_type": "markdown",
   "id": "6acebcb8",
   "metadata": {},
   "source": [
    "If you run idft() with the input X = np.array([1, 1, 1, 1]), the function should return the following numpy array:\n",
    "\n",
    "    array([  1.00000000e+00 +0.00000000e+00j,   -4.59242550e-17 +5.55111512e-17j,   0.00000000e+00 +6.12323400e-17j,   8.22616137e-17 +8.32667268e-17j])\n",
    "Notice that the output numpy array is essentially [1, 0, 0, 0]. Instead of exact 0 we get very small numerical values of the order of 1e-15, which can be ignored. Also, these small numerical errors are machine dependent and might be different in your case.\n",
    "\n",
    "In addition, an interesting test of the IDFT function can be done by providing the output of the DFT of a sequence as the input to the IDFT. See if you get back the original time domain sequence."
   ]
  },
  {
   "cell_type": "code",
   "execution_count": 213,
   "id": "be86822e",
   "metadata": {},
   "outputs": [
    {
     "name": "stdout",
     "output_type": "stream",
     "text": [
      "[ 1.00000000e+00+0.00000000e+00j -4.59242550e-17+5.55111512e-17j\n",
      "  0.00000000e+00+6.12323400e-17j  8.22616137e-17+8.32667268e-17j]\n",
      "[1.-5.55111512e-16j 2.-3.33066907e-16j 3.-1.11022302e-16j\n",
      " 4.+3.88578059e-16j]\n"
     ]
    },
    {
     "name": "stderr",
     "output_type": "stream",
     "text": [
      "/Users/sofiavallejo/opt/anaconda3/lib/python3.9/site-packages/matplotlib/cbook/__init__.py:1298: ComplexWarning: Casting complex values to real discards the imaginary part\n",
      "  return np.asarray(x, float)\n",
      "/Users/sofiavallejo/opt/anaconda3/lib/python3.9/site-packages/matplotlib/cbook/__init__.py:1298: ComplexWarning: Casting complex values to real discards the imaginary part\n",
      "  return np.asarray(x, float)\n"
     ]
    },
    {
     "data": {
      "text/plain": [
       "[<matplotlib.lines.Line2D at 0x7fa0717a7a60>]"
      ]
     },
     "execution_count": 213,
     "metadata": {},
     "output_type": "execute_result"
    },
    {
     "data": {
      "image/png": "[encoded data removed]",
      "text/plain": [
       "<Figure size 432x288 with 1 Axes>"
      ]
     },
     "metadata": {
      "needs_background": "light"
     },
     "output_type": "display_data"
    }
   ],
   "source": [
    "X = np.array([1,1,1,1])\n",
    "x = idft(X)\n",
    "print (x)\n",
    "\n",
    "x1 = idft(X1)\n",
    "print (x1)\n",
    "plt.plot(x)\n",
    "plt.plot(x1)"
   ]
  },
  {
   "cell_type": "markdown",
   "id": "47afd354",
   "metadata": {},
   "source": [
    "# Part 5 - Compute the magnitude spectrum\n",
    "The function gen_mag_spectrum() should compute the magnitude spectrum of an input sequence x of length N. The function should return an N point magnitude spectrum with frequency index ranging from 0 to N-1.\n",
    "\n",
    "The input argument to the function is a numpy array x and the function should return a numpy array of the magnitude spectrum of x."
   ]
  },
  {
   "cell_type": "code",
   "execution_count": 167,
   "id": "0a2e6764",
   "metadata": {},
   "outputs": [],
   "source": [
    "# E2 - 5.1: Complete the function gen_mag_spec()\n",
    "\n",
    "def gen_mag_spec(x):\n",
    "    \"\"\"Compute magnitude spectrum of a signal.\n",
    "    \n",
    "    Args:\n",
    "        x (np.array): input sequence of length N\n",
    "        \n",
    "    Returns:\n",
    "        np.array: magnitude spectrum of the input sequence x (length N)\n",
    "        \n",
    "    \"\"\"\n",
    "    X = np.array([])\n",
    "    N = len(x)\n",
    "    for k in range(N):\n",
    "        s = np.exp(1j * 2 * np.pi * k / N * np.arange(N))\n",
    "        X = np.append(X, sum(x*np.conjugate(s)))\n",
    "    return 20*np.log10(abs(X))"
   ]
  },
  {
   "cell_type": "code",
   "execution_count": 203,
   "id": "13f19c91",
   "metadata": {},
   "outputs": [
    {
     "name": "stdout",
     "output_type": "stream",
     "text": [
      "[10.          2.82842712  2.          2.82842712]\n"
     ]
    },
    {
     "data": {
      "text/plain": [
       "[<matplotlib.lines.Line2D at 0x7fa0284b0a90>]"
      ]
     },
     "execution_count": 203,
     "metadata": {},
     "output_type": "execute_result"
    },
    {
     "data": {
      "image/png": "[encoded data removed]",
      "text/plain": [
       "<Figure size 432x288 with 1 Axes>"
      ]
     },
     "metadata": {
      "needs_background": "light"
     },
     "output_type": "display_data"
    }
   ],
   "source": [
    "def gen_mag_spec(x): \n",
    "    N = x.shape[0]\n",
    "    nv = np.arange(0, N)\n",
    "    kv = np.arange(0, N)\n",
    "\n",
    "    X = np.array([])\n",
    "\n",
    "    for k in kv:\n",
    "        s = np.exp(1j * 2 * np.pi * k / N * nv)\n",
    "        X = np.append(X, sum(x*np.conjugate(s)))\n",
    "\n",
    "    return np.abs(X)\n",
    "\n",
    "x = np.array([1, 2, 3, 4])\n",
    "print (gen_mag_spec(x))\n",
    "plt.plot(gen_mag_spec(x),\"r--\")\n",
    "plt.plot(x,\"b--\")"
   ]
  },
  {
   "cell_type": "code",
   "execution_count": null,
   "id": "1b70237c",
   "metadata": {},
   "outputs": [],
   "source": []
  },
  {
   "cell_type": "code",
   "execution_count": null,
   "id": "586248b7",
   "metadata": {},
   "outputs": [],
   "source": []
  }
 ],
 "metadata": {
  "kernelspec": {
   "display_name": "Python 3 (ipykernel)",
   "language": "python",
   "name": "python3"
  },
  "language_info": {
   "codemirror_mode": {
    "name": "ipython",
    "version": 3
   },
   "file_extension": ".py",
   "mimetype": "text/x-python",
   "name": "python",
   "nbconvert_exporter": "python",
   "pygments_lexer": "ipython3",
   "version": "3.9.12"
  }
 },
 "nbformat": 4,
 "nbformat_minor": 5
}
